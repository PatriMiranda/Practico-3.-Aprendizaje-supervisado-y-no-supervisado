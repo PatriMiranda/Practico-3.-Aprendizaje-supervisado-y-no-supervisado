{
 "cells": [
  {
   "cell_type": "markdown",
   "id": "d1da9592",
   "metadata": {},
   "source": [
    "<center>\n",
    "\n",
    "# Diplomatura en Ciencia de Datos, Aprendizaje Automático y sus Aplicaciones\n",
    "    \n",
    "## Práctico # 3. Aprendizaje supervisado y no supervisado\n",
    "## <span style=\"color:red\">**Fecha de entrega práctico:** 16 de septiembre de 2024</span>\n",
    "    \n",
    "## <span style=\"color:red\">**Fecha de entrega video de presentación final:** 30 de septiembre de 2024</span> \n",
    "\n",
    "</center>"
   ]
  },
  {
   "cell_type": "markdown",
   "id": "779c2aee",
   "metadata": {},
   "source": [
    "-----"
   ]
  },
  {
   "cell_type": "markdown",
   "id": "44861813",
   "metadata": {},
   "source": [
    "## Análisis y Predicción de Calidad del Aire en una Zona Urbana: Exploración de Datos Multisensor y Modelado Predictivo"
   ]
  },
  {
   "cell_type": "markdown",
   "id": "fb578b57",
   "metadata": {},
   "source": [
    "<span style=\"font-family: Arial, sans-serif; font-size: 16px;\">\n",
    "    \n",
    "La calidad del aire es un tema importante en la agenda mundial de salud ambiental. Según la OMS (2018), los contaminantes atmosféricos son responsables de 1 de cada 9 muertes. Sin embargo, muchas partes del mundo carecen de datos básicos sobre la calidad del aire. \n",
    "    \n",
    "Este conjunto de datos contiene respuestas de un dispositivo multisensor de gases instalado en una zona significativamente contaminada en Italia. El objetivo es examinar cómo los factores ambientales y la concentración de contaminantes interactúan entre sí. Lo que permitirá comprender el nivel de contaminación del área urbana y utilizar la ciencia de datos para informar estrategias de salud ambiental y recomendaciones prácticas para mejorar la calidad del aire y proteger la salud de las personas que viven allí.  \n",
    "\n",
    "Los datos fueron tomados de https://archive.ics.uci.edu/dataset/360/air+quality \n",
    "    \n",
    "\n",
    "#### Si necesitas descargar el conjunto de datos, acceder al siguiente repositorio:\n",
    "\n",
    "https://github.com/PatriMiranda/Calidad-de-Aire/blob/main/AirQualityUCI.csv\n",
    "\n",
    "</span>"
   ]
  },
  {
   "cell_type": "markdown",
   "id": "3f70cf7b",
   "metadata": {},
   "source": [
    "## Objetivo del práctico 3"
   ]
  },
  {
   "cell_type": "markdown",
   "id": "3cecacc3",
   "metadata": {},
   "source": [
    "<span style=\"font-family: Arial, sans-serif; font-size: 16px;\">\n",
    "    \n",
    "En este tercer práctico de aprendizaje supervisado y/o no supervisado, aplicaremos modelos de clasificación, regresión, arboles de decisión o modelos más avanzados de Machine Learning como XGBoost, LightGBM,  cualquier otro modelo que considere; con el objetivo de extraer los insights más relevantes y significativos que nos presenta el dataset. \n",
    "    \n",
    "El propósito es evaluar y comparar diferentes modelos para determinar cuál de ellos proporcionan la mejor precisión y capacidad predictiva con relación a las preguntas planteadas inicialmente. A través de este análisis, buscaremos proponer acciones efectivas para mitigar los impactos en la salud publica y el medio ambiente relacionados con la contaminación atmosférica.  \n",
    "    \n",
    "</span>"
   ]
  },
  {
   "cell_type": "markdown",
   "id": "225c8fb7",
   "metadata": {},
   "source": [
    "<span style=\"font-family: Arial, sans-serif; font-size: 16px;\">\n",
    "    \n",
    "### Dataset:\n",
    "    \n",
    "Consta de 9471 filas y 17 columnas, registrando promedios horarios de respuestas y concentraciones de gases, obtenidas por un analizador certificado mediante sensores químicos de óxido de metal (identificados como PT08.S1, S2, S3, S4 y S5), abarcando un periodo de 1 año a partir del mes de marzo de 2004 y abril de 2005. Los datos faltantes se han codificado como -200.\n",
    "\n",
    "**Variables a analizar**\n",
    "    \n",
    "1. **Fecha** (DD/MM/AAAA)\n",
    "    \n",
    "2. **Hora** (HH.MM.SS)\n",
    "    \n",
    "3. **CO (GT)**: concentración promedio horaria real de CO en mg/m3 (analizador de referencia)\n",
    "    \n",
    "4. **PT08.S1 (óxido de estaño)**: respuesta promedio horaria del sensor (nominalmente objetivo de CO)\n",
    "    \n",
    "5. **NMHC (GT)**: concentración total promedio horaria real de hidrocarburos no metánicos en microg/m3 (analizador de referencia)\n",
    "    \n",
    "6. **C6H6(GT)**: concentración de benceno promediada por hora real en microg/m3 (analizador de referencia)\n",
    "    \n",
    "7. **PT08.S2 (titania)**: respuesta promedio horaria del sensor (nominalmente dirigida a NMHC)\n",
    "    \n",
    "8. **NOx(GT)**: concentración de NOx promediada por hora real en ppb (analizador de referencia)\n",
    "    \n",
    "9. **PT08.S3 (óxido de tungsteno)**: respuesta promedio horaria del sensor (nominalmente objetivo de NOx)\n",
    "    \n",
    "10. **NO2(GT)**: concentración de NO2 promediada por hora real en microg/m3 (analizador de referencia)\n",
    "    \n",
    "11. **PT08.S4 (óxido de tungsteno)**: respuesta promedio horaria del sensor (nominalmente objetivo de NO2)\n",
    "    \n",
    "12. **PT08.S5 (óxido de indio)**: respuesta promedio horaria del sensor (nominalmente objetivo de O3)\n",
    "    \n",
    "13. **T**: Temperatura en °C\n",
    "    \n",
    "14. **HR**: Humedad relativa (%)\n",
    "    \n",
    "15. **AH**: Humedad Absoluta\n",
    "    \n",
    "</span>"
   ]
  },
  {
   "cell_type": "markdown",
   "id": "1ace8812",
   "metadata": {},
   "source": [
    "### Preguntas a responder en el práctico 3:"
   ]
  },
  {
   "cell_type": "markdown",
   "id": "c8a8099e",
   "metadata": {},
   "source": [
    "<span style=\"font-family: Arial, sans-serif; font-size: 16px;\">\n",
    "    \n",
    "1. ¿Qué modelo predictivo ofrece el mejor ajuste para predecir las concentraciones de contaminantes basándonos en los factores ambientales y/o la respuesta de los sensores?\n",
    "\n",
    "    \n",
    "Pueden aplicar varios modelos como son: \n",
    "    \n",
    "De regresión: regresión lineal múltiple, Ridge, Lasso, Random Forest, Gradient Boosting, XGB y LightGBM\n",
    "    \n",
    "De clasificación: PCA, clustering, redes neuronales.   \n",
    "</span>"
   ]
  },
  {
   "cell_type": "markdown",
   "id": "1c77628a",
   "metadata": {},
   "source": [
    "<span style=\"font-family: Arial, sans-serif; font-size: 16px;\">\n",
    "\n",
    "#### Otras preguntas que pueden surgir de acuerdo al analisis realizado en grupo serían: \n",
    "Solo conteste la que se ajuste a su objetivo. \n",
    "\n",
    "2. ¿Qué factores influyen más en la concentración de contaminante (uno o varios CO, NO2, Nox) en el aire?\n",
    "\n",
    "    Se pueden identificar las variables con mayor impacto en la concentración de contaminantes como la T, HR o la respuesta de los sensores. \n",
    "    \n",
    "    Se puede aplicar Regresión lineal, random forest. \n",
    "\n",
    "</span>"
   ]
  },
  {
   "cell_type": "markdown",
   "id": "c3141338",
   "metadata": {},
   "source": [
    "<span style=\"font-family: Arial, sans-serif; font-size: 16px;\">\n",
    "\n",
    "3. ¿Cómo se puede predecir la concentración de contaminante (uno o varios CO, NO2, Nox, C6H6) en función de las variables ambientales y de sensores?\n",
    "\n",
    "    Identificar un modelo que pueda predecir por ejemplo los niveles de No2 utilizando la T y HR. \n",
    "    \n",
    "    Se puede aplicar modelo de Regresión Lineal, XGBoost, LightGBM. \n",
    "\n",
    "</span>"
   ]
  },
  {
   "cell_type": "markdown",
   "id": "5031fec8",
   "metadata": {},
   "source": [
    "<span style=\"font-family: Arial, sans-serif; font-size: 16px;\">\n",
    "\n",
    "4. ¿Cuáles son las condiciones ambientales que preceden a altos niveles de CO, NO2, NOX, C6H6 (uno o varios)?\n",
    "\n",
    "    De las variables ambientales cuál es la que más tiene relación con los contamimantes \n",
    "    \n",
    "    Se puede aplicar Random Forest, Gradient Boosting\n",
    "\n",
    "</span>"
   ]
  },
  {
   "cell_type": "markdown",
   "id": "e737db68",
   "metadata": {},
   "source": [
    "<span style=\"font-family: Arial, sans-serif; font-size: 16px;\">\n",
    "\n",
    "5. ¿Se puede predecir la calidad del aire en función de los contaminantes y las condiciones ambientales? \n",
    "\n",
    "    Es necesario calcular la calidad del aires y utilizar modelos de clasificación teniendo en cuenta las variables de concentración de contaminantes y las condiciones ambientales.\n",
    "    \n",
    "    Se pueden utilizar modelos de clasificación (redes neuronales, random forest, PCA) y de regresión (Lineal, XGBoost, LightGBM).\n",
    "\n",
    "</span>"
   ]
  },
  {
   "cell_type": "markdown",
   "id": "47e0164c",
   "metadata": {},
   "source": [
    "----"
   ]
  },
  {
   "cell_type": "code",
   "execution_count": 8,
   "id": "ed6eec85",
   "metadata": {},
   "outputs": [],
   "source": [
    "# Importar las librerias\n",
    "\n",
    "import pandas as pd\n",
    "import numpy as np\n",
    "import matplotlib.pyplot as plt\n",
    "import matplotlib as mpl\n",
    "import seaborn as sns\n",
    "%matplotlib inline\n",
    "from sklearn.linear_model import LinearRegression\n",
    "from sklearn.model_selection import train_test_split\n",
    "from sklearn.ensemble import RandomForestRegressor\n",
    "from sklearn.ensemble import RandomForestClassifier\n",
    "from sklearn.metrics import mean_absolute_error, r2_score, mean_squared_error\n",
    "from sklearn.metrics import classification_report\n",
    "from mlxtend.feature_selection import SequentialFeatureSelector as SFS\n",
    "import seaborn as sns\n",
    "import statsmodels.api as sm"
   ]
  },
  {
   "cell_type": "code",
   "execution_count": 9,
   "id": "ca94cb68",
   "metadata": {},
   "outputs": [
    {
     "data": {
      "text/html": [
       "<div>\n",
       "<style scoped>\n",
       "    .dataframe tbody tr th:only-of-type {\n",
       "        vertical-align: middle;\n",
       "    }\n",
       "\n",
       "    .dataframe tbody tr th {\n",
       "        vertical-align: top;\n",
       "    }\n",
       "\n",
       "    .dataframe thead th {\n",
       "        text-align: right;\n",
       "    }\n",
       "</style>\n",
       "<table border=\"1\" class=\"dataframe\">\n",
       "  <thead>\n",
       "    <tr style=\"text-align: right;\">\n",
       "      <th></th>\n",
       "      <th>CO</th>\n",
       "      <th>S1</th>\n",
       "      <th>C6H6</th>\n",
       "      <th>S2</th>\n",
       "      <th>NOx</th>\n",
       "      <th>S3</th>\n",
       "      <th>NO2</th>\n",
       "      <th>S4</th>\n",
       "      <th>S5</th>\n",
       "      <th>Temp</th>\n",
       "      <th>HR</th>\n",
       "      <th>HA</th>\n",
       "      <th>Datetime</th>\n",
       "    </tr>\n",
       "  </thead>\n",
       "  <tbody>\n",
       "    <tr>\n",
       "      <th>0</th>\n",
       "      <td>2.6</td>\n",
       "      <td>1360.0</td>\n",
       "      <td>11.9</td>\n",
       "      <td>1046.0</td>\n",
       "      <td>166.0</td>\n",
       "      <td>1056.0</td>\n",
       "      <td>113.0</td>\n",
       "      <td>1692.0</td>\n",
       "      <td>1268.0</td>\n",
       "      <td>13.6</td>\n",
       "      <td>48.9</td>\n",
       "      <td>0.7578</td>\n",
       "      <td>2004-10-03 18:00:00</td>\n",
       "    </tr>\n",
       "    <tr>\n",
       "      <th>1</th>\n",
       "      <td>2.0</td>\n",
       "      <td>1292.0</td>\n",
       "      <td>9.4</td>\n",
       "      <td>955.0</td>\n",
       "      <td>103.0</td>\n",
       "      <td>1174.0</td>\n",
       "      <td>92.0</td>\n",
       "      <td>1559.0</td>\n",
       "      <td>972.0</td>\n",
       "      <td>13.3</td>\n",
       "      <td>47.7</td>\n",
       "      <td>0.7255</td>\n",
       "      <td>2004-10-03 19:00:00</td>\n",
       "    </tr>\n",
       "    <tr>\n",
       "      <th>2</th>\n",
       "      <td>2.2</td>\n",
       "      <td>1402.0</td>\n",
       "      <td>9.0</td>\n",
       "      <td>939.0</td>\n",
       "      <td>131.0</td>\n",
       "      <td>1140.0</td>\n",
       "      <td>114.0</td>\n",
       "      <td>1555.0</td>\n",
       "      <td>1074.0</td>\n",
       "      <td>11.9</td>\n",
       "      <td>54.0</td>\n",
       "      <td>0.7502</td>\n",
       "      <td>2004-10-03 20:00:00</td>\n",
       "    </tr>\n",
       "    <tr>\n",
       "      <th>3</th>\n",
       "      <td>2.2</td>\n",
       "      <td>1376.0</td>\n",
       "      <td>9.2</td>\n",
       "      <td>948.0</td>\n",
       "      <td>172.0</td>\n",
       "      <td>1092.0</td>\n",
       "      <td>122.0</td>\n",
       "      <td>1584.0</td>\n",
       "      <td>1203.0</td>\n",
       "      <td>11.0</td>\n",
       "      <td>60.0</td>\n",
       "      <td>0.7867</td>\n",
       "      <td>2004-10-03 21:00:00</td>\n",
       "    </tr>\n",
       "    <tr>\n",
       "      <th>4</th>\n",
       "      <td>1.6</td>\n",
       "      <td>1272.0</td>\n",
       "      <td>6.5</td>\n",
       "      <td>836.0</td>\n",
       "      <td>131.0</td>\n",
       "      <td>1205.0</td>\n",
       "      <td>116.0</td>\n",
       "      <td>1490.0</td>\n",
       "      <td>1110.0</td>\n",
       "      <td>11.2</td>\n",
       "      <td>59.6</td>\n",
       "      <td>0.7888</td>\n",
       "      <td>2004-10-03 22:00:00</td>\n",
       "    </tr>\n",
       "  </tbody>\n",
       "</table>\n",
       "</div>"
      ],
      "text/plain": [
       "    CO      S1  C6H6      S2    NOx      S3    NO2      S4      S5  Temp  \\\n",
       "0  2.6  1360.0  11.9  1046.0  166.0  1056.0  113.0  1692.0  1268.0  13.6   \n",
       "1  2.0  1292.0   9.4   955.0  103.0  1174.0   92.0  1559.0   972.0  13.3   \n",
       "2  2.2  1402.0   9.0   939.0  131.0  1140.0  114.0  1555.0  1074.0  11.9   \n",
       "3  2.2  1376.0   9.2   948.0  172.0  1092.0  122.0  1584.0  1203.0  11.0   \n",
       "4  1.6  1272.0   6.5   836.0  131.0  1205.0  116.0  1490.0  1110.0  11.2   \n",
       "\n",
       "     HR      HA             Datetime  \n",
       "0  48.9  0.7578  2004-10-03 18:00:00  \n",
       "1  47.7  0.7255  2004-10-03 19:00:00  \n",
       "2  54.0  0.7502  2004-10-03 20:00:00  \n",
       "3  60.0  0.7867  2004-10-03 21:00:00  \n",
       "4  59.6  0.7888  2004-10-03 22:00:00  "
      ]
     },
     "execution_count": 9,
     "metadata": {},
     "output_type": "execute_result"
    }
   ],
   "source": [
    "# Cargar los datos limpios \n",
    "df = pd.read_csv(\"QAire_limpio.csv\", delimiter=',')\n",
    "df.head()"
   ]
  },
  {
   "cell_type": "markdown",
   "id": "7c3d62d9",
   "metadata": {},
   "source": [
    "<span style=\"font-family: Arial, sans-serif; font-size: 16px;\">\n",
    "    \n",
    "### 1. Selección de variables\n",
    "    \n",
    "* También conocido como Feature Selection, consiste en el proceso de seleccionar las características (variables) con más importancia en la variable a predecir.\n",
    "\n",
    "* Consiste en elegir un subconjunto relevante y significativo de las características (columnas) del dataset para mejorar el rendimiento del modelo y reducir la complejidad computacional.\n",
    "\n",
    "* Forward Elimination (Eliminación Hacia Adelante). El objetivo de este método es identificar el subconjunto de variables independientes que mejor predice la variable dependiente, mejorando así el rendimiento del modelo y evitando el sobreajuste. \n",
    "\n",
    "* Backward Elimination (Eliminación Hacia Atrás).Elimina variables de manera secuencial. \n",
    "    \n",
    "</span>"
   ]
  },
  {
   "cell_type": "markdown",
   "id": "24b30b14",
   "metadata": {},
   "source": [
    "### Aplicación de Feature Selection "
   ]
  },
  {
   "cell_type": "code",
   "execution_count": 11,
   "id": "c93f2593",
   "metadata": {},
   "outputs": [
    {
     "data": {
      "text/html": [
       "<div>\n",
       "<style scoped>\n",
       "    .dataframe tbody tr th:only-of-type {\n",
       "        vertical-align: middle;\n",
       "    }\n",
       "\n",
       "    .dataframe tbody tr th {\n",
       "        vertical-align: top;\n",
       "    }\n",
       "\n",
       "    .dataframe thead th {\n",
       "        text-align: right;\n",
       "    }\n",
       "</style>\n",
       "<table border=\"1\" class=\"dataframe\">\n",
       "  <thead>\n",
       "    <tr style=\"text-align: right;\">\n",
       "      <th></th>\n",
       "      <th>CO</th>\n",
       "      <th>S1</th>\n",
       "      <th>C6H6</th>\n",
       "      <th>S2</th>\n",
       "      <th>NOx</th>\n",
       "      <th>S3</th>\n",
       "      <th>NO2</th>\n",
       "      <th>S4</th>\n",
       "      <th>S5</th>\n",
       "      <th>Temp</th>\n",
       "      <th>HR</th>\n",
       "      <th>HA</th>\n",
       "      <th>Datetime</th>\n",
       "    </tr>\n",
       "  </thead>\n",
       "  <tbody>\n",
       "    <tr>\n",
       "      <th>0</th>\n",
       "      <td>2.6</td>\n",
       "      <td>1360.0</td>\n",
       "      <td>11.9</td>\n",
       "      <td>1046.0</td>\n",
       "      <td>166.0</td>\n",
       "      <td>1056.0</td>\n",
       "      <td>113.0</td>\n",
       "      <td>1692.0</td>\n",
       "      <td>1268.0</td>\n",
       "      <td>13.6</td>\n",
       "      <td>48.9</td>\n",
       "      <td>0.7578</td>\n",
       "      <td>2004-10-03 18:00:00</td>\n",
       "    </tr>\n",
       "    <tr>\n",
       "      <th>1</th>\n",
       "      <td>2.0</td>\n",
       "      <td>1292.0</td>\n",
       "      <td>9.4</td>\n",
       "      <td>955.0</td>\n",
       "      <td>103.0</td>\n",
       "      <td>1174.0</td>\n",
       "      <td>92.0</td>\n",
       "      <td>1559.0</td>\n",
       "      <td>972.0</td>\n",
       "      <td>13.3</td>\n",
       "      <td>47.7</td>\n",
       "      <td>0.7255</td>\n",
       "      <td>2004-10-03 19:00:00</td>\n",
       "    </tr>\n",
       "    <tr>\n",
       "      <th>2</th>\n",
       "      <td>2.2</td>\n",
       "      <td>1402.0</td>\n",
       "      <td>9.0</td>\n",
       "      <td>939.0</td>\n",
       "      <td>131.0</td>\n",
       "      <td>1140.0</td>\n",
       "      <td>114.0</td>\n",
       "      <td>1555.0</td>\n",
       "      <td>1074.0</td>\n",
       "      <td>11.9</td>\n",
       "      <td>54.0</td>\n",
       "      <td>0.7502</td>\n",
       "      <td>2004-10-03 20:00:00</td>\n",
       "    </tr>\n",
       "    <tr>\n",
       "      <th>3</th>\n",
       "      <td>2.2</td>\n",
       "      <td>1376.0</td>\n",
       "      <td>9.2</td>\n",
       "      <td>948.0</td>\n",
       "      <td>172.0</td>\n",
       "      <td>1092.0</td>\n",
       "      <td>122.0</td>\n",
       "      <td>1584.0</td>\n",
       "      <td>1203.0</td>\n",
       "      <td>11.0</td>\n",
       "      <td>60.0</td>\n",
       "      <td>0.7867</td>\n",
       "      <td>2004-10-03 21:00:00</td>\n",
       "    </tr>\n",
       "    <tr>\n",
       "      <th>4</th>\n",
       "      <td>1.6</td>\n",
       "      <td>1272.0</td>\n",
       "      <td>6.5</td>\n",
       "      <td>836.0</td>\n",
       "      <td>131.0</td>\n",
       "      <td>1205.0</td>\n",
       "      <td>116.0</td>\n",
       "      <td>1490.0</td>\n",
       "      <td>1110.0</td>\n",
       "      <td>11.2</td>\n",
       "      <td>59.6</td>\n",
       "      <td>0.7888</td>\n",
       "      <td>2004-10-03 22:00:00</td>\n",
       "    </tr>\n",
       "  </tbody>\n",
       "</table>\n",
       "</div>"
      ],
      "text/plain": [
       "    CO      S1  C6H6      S2    NOx      S3    NO2      S4      S5  Temp  \\\n",
       "0  2.6  1360.0  11.9  1046.0  166.0  1056.0  113.0  1692.0  1268.0  13.6   \n",
       "1  2.0  1292.0   9.4   955.0  103.0  1174.0   92.0  1559.0   972.0  13.3   \n",
       "2  2.2  1402.0   9.0   939.0  131.0  1140.0  114.0  1555.0  1074.0  11.9   \n",
       "3  2.2  1376.0   9.2   948.0  172.0  1092.0  122.0  1584.0  1203.0  11.0   \n",
       "4  1.6  1272.0   6.5   836.0  131.0  1205.0  116.0  1490.0  1110.0  11.2   \n",
       "\n",
       "     HR      HA             Datetime  \n",
       "0  48.9  0.7578  2004-10-03 18:00:00  \n",
       "1  47.7  0.7255  2004-10-03 19:00:00  \n",
       "2  54.0  0.7502  2004-10-03 20:00:00  \n",
       "3  60.0  0.7867  2004-10-03 21:00:00  \n",
       "4  59.6  0.7888  2004-10-03 22:00:00  "
      ]
     },
     "execution_count": 11,
     "metadata": {},
     "output_type": "execute_result"
    }
   ],
   "source": [
    "aire = pd.read_csv(\"QAire_limpio.csv\")\n",
    "aire.head()"
   ]
  },
  {
   "cell_type": "code",
   "execution_count": 16,
   "id": "257e9167",
   "metadata": {},
   "outputs": [
    {
     "name": "stdout",
     "output_type": "stream",
     "text": [
      "Forward Selection - Características seleccionadas: ('CO', 'NOx', 'HR', 'HA')\n"
     ]
    }
   ],
   "source": [
    "# Variables seleccionadas\n",
    "X = aire[['CO', 'C6H6', 'NOx', 'NO2', 'HR', 'HA']]      \n",
    "y = aire['Temp']\n",
    "\n",
    "# Método de Forward Elimination\n",
    "sfs_forward = SFS(LinearRegression(),              \n",
    "                  k_features=4,                   \n",
    "                  forward=True,                  \n",
    "                  floating=False,\n",
    "                  scoring='r2',   \n",
    "                  cv=5)\n",
    "sfs_forward.fit(X, y)\n",
    "selected_features_forward = sfs_forward.k_feature_names_\n",
    "print(\"Forward Selection - Características seleccionadas:\", selected_features_forward)"
   ]
  },
  {
   "cell_type": "code",
   "execution_count": 19,
   "id": "4656b3fa",
   "metadata": {},
   "outputs": [
    {
     "name": "stdout",
     "output_type": "stream",
     "text": [
      "Backward Elimination - Características seleccionadas: ('C6H6', 'HR', 'HA')\n"
     ]
    }
   ],
   "source": [
    "# Método de Backward Elimination\n",
    "sfs_backward = SFS(LinearRegression(),\n",
    "                   k_features=3,\n",
    "                   forward=False,\n",
    "                   floating=False,\n",
    "                   scoring='r2',\n",
    "                   cv=5)\n",
    "sfs_backward.fit(X, y)\n",
    "selected_features_backward = sfs_backward.k_feature_names_\n",
    "print(\"Backward Elimination - Características seleccionadas:\", selected_features_backward)"
   ]
  },
  {
   "cell_type": "markdown",
   "id": "3af3482d",
   "metadata": {},
   "source": [
    "<span style=\"font-family: Arial, sans-serif; font-size: 16px;\">\n",
    "    \n",
    "### 2. Modelamiento y validación\n",
    "    \n",
    "`from sklearn.model_selection import train_test_split`\n",
    "\n",
    "Dividir el conjunto de datos en entrenamiento y prueba\n",
    "\n",
    "`X_train, X_test, y_train, y_test = train_test_split(X, y, test_size=0.2, random_state=42)`\n",
    "\n",
    "**Sintaxis:**\n",
    "\n",
    "Donde:\n",
    "\n",
    "*   **X:** Es el conjunto de características o variables independientes del conjunto de datos. Puede ser un DataFrame o una matriz NumPy.\n",
    "*   **y:** Es la variable objetivo o etiqueta del conjunto de datos. Puede ser una Serie de pandas o un arreglo de una dimensión.\n",
    "*   **test_size:** Es un valor entre 0 y 1 que representa el tamaño del conjunto de prueba en relación con el conjunto de datos completo. Por ejemplo, test_size=0.2 indica que el 20% de los datos se utilizará como conjunto de prueba, mientras que el 80% restante se utilizará como conjunto de entrenamiento.\n",
    "\n",
    "*   **random_state:** Es un número entero >=0 que se utiliza como semilla para el generador de números aleatorios. Se recomienda establecer un valor fijo para random_state cuando se quiere obtener siempre la misma división de datos, lo que facilita la comparación de resultados.\n",
    "\n",
    "</span>"
   ]
  },
  {
   "cell_type": "markdown",
   "id": "9f669ce9",
   "metadata": {},
   "source": [
    "### Modelo de regresión lineal múltiple"
   ]
  },
  {
   "cell_type": "code",
   "execution_count": 22,
   "id": "23573f06",
   "metadata": {},
   "outputs": [
    {
     "name": "stdout",
     "output_type": "stream",
     "text": [
      "Coeficiente de determinación (R^2) - Linear Regression: 0.9232752063445598\n",
      "Error absoluto medio (MAE) - Linear Regression: 1.7485775544927298\n",
      "Error cuadrático medio (MSE) - Linear Regression: 5.878210583563611\n",
      "Raíz del Error cuadrático medio (RMSE) - Linear Regression: 2.424502131070132\n"
     ]
    }
   ],
   "source": [
    "from sklearn.linear_model import LinearRegression\n",
    "from sklearn.model_selection import train_test_split\n",
    "from sklearn.metrics import r2_score, mean_absolute_error, mean_squared_error\n",
    "\n",
    "# Variables seleccionadas\n",
    "X = aire[['CO', 'C6H6', 'NOx', 'HR', 'HA']]\n",
    "y = aire['Temp']\n",
    "\n",
    "# Dividir el conjunto de datos en entrenamiento y prueba\n",
    "X_train, X_test, y_train, y_test = train_test_split(X, y, test_size=0.2, random_state=42)\n",
    "\n",
    "lineal_model = LinearRegression()\n",
    "lineal_model.fit(X_train, y_train)\n",
    "\n",
    "# Hacer predicciones en el conjunto de prueba\n",
    "y_pred_lineal = lineal_model.predict(X_test)\n",
    "\n",
    "# Evaluar el rendimiento del modelo\n",
    "r2 = r2_score(y_test, y_pred_lineal)\n",
    "print(\"Coeficiente de determinación (R^2) - Linear Regression:\", r2)\n",
    "mae = mean_absolute_error(y_test, y_pred_lineal)\n",
    "print(\"Error absoluto medio (MAE) - Linear Regression:\", mae)\n",
    "mse = mean_squared_error(y_test, y_pred_lineal)\n",
    "print(\"Error cuadrático medio (MSE) - Linear Regression:\", mse)\n",
    "rmse = np.sqrt(mse)\n",
    "print(\"Raíz del Error cuadrático medio (RMSE) - Linear Regression:\", rmse)"
   ]
  },
  {
   "cell_type": "markdown",
   "id": "1455b519",
   "metadata": {},
   "source": [
    "### Modelo de regresión Lasso"
   ]
  },
  {
   "cell_type": "code",
   "execution_count": 23,
   "id": "3a411ae4",
   "metadata": {},
   "outputs": [
    {
     "name": "stdout",
     "output_type": "stream",
     "text": [
      "Coeficiente de determinación (R^2) - Lasso: 0.8194286239963465\n",
      "Error absoluto medio (MAE) - Lasso: 2.824627106379641\n",
      "Error cuadrático medio (MSE) - Lasso: 13.834335981144195\n",
      "Raíz del Error cuadrático medio (RMSE) - Lasso: 3.7194537207961327\n"
     ]
    }
   ],
   "source": [
    "from sklearn.linear_model import Lasso\n",
    "from sklearn.model_selection import train_test_split\n",
    "from sklearn.metrics import r2_score, mean_absolute_error, mean_squared_error \n",
    "\n",
    "# Variables seleccionadas\n",
    "X = aire[['CO', 'C6H6', 'NOx', 'HR', 'HA']]\n",
    "y = aire['Temp']\n",
    "\n",
    "# Dividir el conjunto de datos en entrenamiento y prueba\n",
    "X_train, X_test, y_train, y_test = train_test_split(X, y, test_size=0.2, random_state=42)\n",
    "\n",
    "lasso_model = Lasso(alpha=1.0)  \n",
    "lasso_model.fit(X_train, y_train)\n",
    "\n",
    "# Hacer predicciones en el conjunto de prueba\n",
    "y_pred_lasso = lasso_model.predict(X_test)\n",
    "\n",
    "# Evaluar el rendimiento del modelo\n",
    "r2 = r2_score(y_test, y_pred_lasso)\n",
    "print(\"Coeficiente de determinación (R^2) - Lasso:\", r2)\n",
    "mae = mean_absolute_error(y_test, y_pred_lasso)\n",
    "print(\"Error absoluto medio (MAE) - Lasso:\", mae)\n",
    "mse = mean_squared_error(y_test, y_pred_lasso)\n",
    "print(\"Error cuadrático medio (MSE) - Lasso:\", mse)\n",
    "rmse = np.sqrt(mse)\n",
    "print(\"Raíz del Error cuadrático medio (RMSE) - Lasso:\", rmse)"
   ]
  },
  {
   "cell_type": "markdown",
   "id": "abed4994",
   "metadata": {},
   "source": [
    "### Modelo de regresión Random Forest"
   ]
  },
  {
   "cell_type": "code",
   "execution_count": 26,
   "id": "c03ed60f",
   "metadata": {},
   "outputs": [
    {
     "name": "stdout",
     "output_type": "stream",
     "text": [
      "Coeficiente de determinación (R^2) - Random Forest Regressor: 0.9994963168880462\n",
      "Error absoluto medio (MAE) - Random Forest Regressor: 0.11674305555555607\n",
      "Error cuadrado medio (MSE) - Random Forest Regressor: 0.038589291132478665\n",
      "Raíz del Error cuadrático medio (RMSE) - Random Forest Regressor: 0.19644157180311572\n"
     ]
    }
   ],
   "source": [
    "from sklearn.ensemble import RandomForestRegressor\n",
    "from sklearn.model_selection import train_test_split\n",
    "from sklearn.metrics import mean_squared_error, mean_absolute_error, r2_score\n",
    "import numpy as np\n",
    "\n",
    "# Variables seleccionadas\n",
    "X = aire[['CO', 'C6H6', 'NOx', 'HR', 'HA']]\n",
    "y = aire['Temp']\n",
    "\n",
    "# Dividir los datos en conjuntos de entrenamiento y prueba\n",
    "X_train, X_test, y_train, y_test = train_test_split(X, y, test_size=0.2, random_state=42)\n",
    "\n",
    "rf_model = RandomForestRegressor()  \n",
    "rf_model.fit(X_train, y_train)\n",
    "\n",
    "# Realizar predicciones en los datos de prueba\n",
    "y_pred_rf = rf_model.predict(X_test)\n",
    "\n",
    "# Evaluar el rendimiento del modelo\n",
    "r2 = r2_score(y_test, y_pred_rf)\n",
    "print(f\"Coeficiente de determinación (R^2) - Random Forest Regressor: {r2}\")\n",
    "mae = mean_absolute_error(y_test, y_pred_rf)\n",
    "print(f\"Error absoluto medio (MAE) - Random Forest Regressor: {mae}\")\n",
    "mse = mean_squared_error(y_test, y_pred_rf)\n",
    "print(f\"Error cuadrado medio (MSE) - Random Forest Regressor: {mse}\")\n",
    "rmse = np.sqrt(mse)\n",
    "print(\"Raíz del Error cuadrático medio (RMSE) - Random Forest Regressor:\", rmse)"
   ]
  },
  {
   "cell_type": "markdown",
   "id": "083c6429",
   "metadata": {},
   "source": [
    "**Aqui se muestran en resumen, las medidas de prueba de cada uno de los modelos aplicados**"
   ]
  },
  {
   "cell_type": "code",
   "execution_count": 27,
   "id": "00531470",
   "metadata": {},
   "outputs": [
    {
     "name": "stdout",
     "output_type": "stream",
     "text": [
      "Evaluación del modelo Regresión Lineal:\n",
      "R2 Score: 0.9233\n",
      "Mean Absolute Error (MAE): 1.7486\n",
      "Mean Squared Error (MSE): 5.8782\n",
      "\n",
      "\n",
      "Evaluación del modelo Regresión Lasso:\n",
      "R2 Score: 0.8194\n",
      "Mean Absolute Error (MAE): 2.8246\n",
      "Mean Squared Error (MSE): 13.8343\n",
      "\n",
      "\n",
      "Evaluación del modelo Regresión Random Forest:\n",
      "R2 Score: 0.9995\n",
      "Mean Absolute Error (MAE): 0.1167\n",
      "Mean Squared Error (MSE): 0.0386\n",
      "\n",
      "\n"
     ]
    }
   ],
   "source": [
    "from sklearn.metrics import r2_score, mean_absolute_error, mean_squared_error\n",
    "import numpy as np\n",
    "\n",
    "def evaluate_model(y_true, y_pred, model_name):\n",
    "    r2 = r2_score(y_true, y_pred)\n",
    "    mae = mean_absolute_error(y_true, y_pred)\n",
    "    mse = mean_squared_error(y_true, y_pred)\n",
    "    \n",
    "    print(f\"Evaluación del modelo {model_name}:\")\n",
    "    print(f\"R2 Score: {r2:.4f}\")\n",
    "    print(f\"Mean Absolute Error (MAE): {mae:.4f}\")\n",
    "    print(f\"Mean Squared Error (MSE): {mse:.4f}\")\n",
    "    print(\"\\n\")\n",
    "\n",
    "# Evaluación de las predicciones de prueba\n",
    "evaluate_model(y_test, y_pred_lineal, 'Regresión Lineal')\n",
    "evaluate_model(y_test, y_pred_lasso, 'Regresión Lasso')\n",
    "evaluate_model(y_test, y_pred_rf, 'Regresión Random Forest')"
   ]
  },
  {
   "cell_type": "code",
   "execution_count": 28,
   "id": "d54c92e1",
   "metadata": {},
   "outputs": [
    {
     "name": "stdout",
     "output_type": "stream",
     "text": [
      "Regresión Lineal - Conjunto de Entrenamiento: RMSE=2.444375776716931, R2=0.9198310447027962, MAE=1.737415594065094, MSE=5.974972937800501\n",
      "Regresión Lineal - Conjunto de Prueba: RMSE=2.424502131070132, R2=0.9232752063445598, MAE=1.7485775544927298, MSE=5.974972937800501\n",
      "Regresión Lasso - Conjunto de Entrenamiento: RMSE=3.710622684790606, R2=0.8152587523824945, MAE=2.7979252584979957, MSE=13.768720708882645\n",
      "Regresión Lasso - Conjunto de Prueba: RMSE=3.7194537207961327, R2=0.8194286239963465, MAE=2.824627106379641, MSE=13.768720708882645\n",
      "Regresión Random Forest - Conjunto de Entrenamiento: RMSE=0.0936910997784138, R2=0.9998822212460396, MAE=0.04645744822979326, MSE=0.008778022177688692\n",
      "Regresión Random Forest - Conjunto de Prueba: RMSE=0.19644157180311572, R2=0.9994963168880462, MAE=0.11674305555555607, MSE=0.008778022177688692\n"
     ]
    }
   ],
   "source": [
    "import pandas as pd\n",
    "\n",
    "def evaluate_model_train_test(model, X_train, y_train, X_test, y_test, model_name):\n",
    "    y_train_pred = model.predict(X_train)  # predicción de entrenamiento\n",
    "    y_test_pred = model.predict(X_test)    # predicción de prueba\n",
    "\n",
    "    # Métricas en conjuntos de entrenamiento\n",
    "    rmse_train = mean_squared_error(y_train, y_train_pred, squared=False)\n",
    "    r2_train = r2_score(y_train, y_train_pred)\n",
    "    mae_train = mean_absolute_error(y_train, y_train_pred)\n",
    "    mse_train = mean_squared_error(y_train, y_train_pred)\n",
    "\n",
    "    # Métricas en conjuntos de prueba\n",
    "    rmse_test = mean_squared_error(y_test, y_test_pred, squared=False)\n",
    "    r2_test = r2_score(y_test, y_test_pred)\n",
    "    mae_test = mean_absolute_error(y_test, y_test_pred)\n",
    "    mse_test = mean_squared_error(y_train, y_train_pred)\n",
    "\n",
    "    # Imprimir resultados\n",
    "    print(f'{model_name} - Conjunto de Entrenamiento: RMSE={rmse_train}, R2={r2_train}, MAE={mae_train}, MSE={mse_train}')\n",
    "    print(f'{model_name} - Conjunto de Prueba: RMSE={rmse_test}, R2={r2_test}, MAE={mae_test}, MSE={mse_test}')\n",
    "\n",
    "# Ejemplo de uso\n",
    "evaluate_model_train_test(lineal_model, X_train, y_train, X_test, y_test, 'Regresión Lineal')\n",
    "evaluate_model_train_test(lasso_model, X_train, y_train, X_test, y_test, 'Regresión Lasso')\n",
    "evaluate_model_train_test(rf_model, X_train, y_train, X_test, y_test, 'Regresión Random Forest')"
   ]
  },
  {
   "cell_type": "code",
   "execution_count": 29,
   "id": "48b19604",
   "metadata": {},
   "outputs": [
    {
     "name": "stdout",
     "output_type": "stream",
     "text": [
      "+-------------------------+---------------+-----------------+----------------+-----------------+------------------+\n",
      "|          Modelo         |    Conjunto   |       RMSE      |       R2       |       MAE       |       MSE        |\n",
      "+-------------------------+---------------+-----------------+----------------+-----------------+------------------+\n",
      "|     Regresión Lineal    | Entrenamiento |   2.4443757767  |  0.9198310447  |  1.73741559406  |   5.9749729378   |\n",
      "|     Regresión Lineal    |     Prueba    |  2.42450213107  | 0.923275206344 |  1.748577554492 |   5.9749729378   |\n",
      "|     Regresión Lasso     | Entrenamiento |  3.71062268479  | 0.815258752382 |  2.797925258497 |  13.76872070888  |\n",
      "|     Regresión Lasso     |     Prueba    |  3.719453720796 | 0.819428623996 |  2.82462710637  |  13.76872070888  |\n",
      "| Regresión Random Forest | Entrenamiento | 0.1010019557077 | 0.999863123198 | 0.0462244488977 | 0.01020139505678 |\n",
      "| Regresión Random Forest |     Prueba    | 0.1968315869242 | 0.999494314877 | 0.1130827991452 | 0.01020139505678 |\n",
      "+-------------------------+---------------+-----------------+----------------+-----------------+------------------+\n"
     ]
    }
   ],
   "source": [
    "from prettytable import PrettyTable\n",
    "\n",
    "# Crear una tabla para una mejor visualización de los resultados\n",
    "table = PrettyTable()\n",
    "table.field_names = [\"Modelo\", \"Conjunto\", \"RMSE\", \"R2\", \"MAE\", \"MSE\"]\n",
    "\n",
    "# Agregar filas a la tabla\n",
    "table.add_row([\"Regresión Lineal\", \"Entrenamiento\", 2.4443757767, 0.91983104470, 1.73741559406, 5.97497293780])\n",
    "table.add_row([\"Regresión Lineal\", \"Prueba\", 2.42450213107, 0.923275206344, 1.748577554492, 5.97497293780])\n",
    "table.add_row([\"Regresión Lasso\", \"Entrenamiento\", 3.71062268479, 0.815258752382, 2.797925258497, 13.76872070888])\n",
    "table.add_row([\"Regresión Lasso\", \"Prueba\", 3.719453720796, 0.819428623996, 2.82462710637, 13.76872070888])\n",
    "table.add_row([\"Regresión Random Forest\", \"Entrenamiento\", 0.1010019557077, 0.999863123198, 0.0462244488977, 0.01020139505678])\n",
    "table.add_row([\"Regresión Random Forest\", \"Prueba\", 0.1968315869242, 0.999494314877, 0.1130827991452, 0.01020139505678])\n",
    "\n",
    "print(table)"
   ]
  },
  {
   "cell_type": "markdown",
   "id": "c7469a97",
   "metadata": {},
   "source": [
    "<span style=\"font-family: Arial, sans-serif; font-size: 16px;\">\n",
    "    \n",
    "### 3. Predicciones\n",
    "\n",
    "Despues de observar los resultados de entrenamiento y prueba de los distintos modelos de Machine Learning aplicados, se pudo observar que el modelo con el mejor ajuste fue **modelo Random Forest**. \n",
    "\n",
    "En esta parte vamos a observar las predicciones de este modelo y usando un gráfico poder visualizar mejor los valores arrojados. \n",
    "    \n",
    "</span>"
   ]
  },
  {
   "cell_type": "code",
   "execution_count": 30,
   "id": "0a16f2f3",
   "metadata": {},
   "outputs": [
    {
     "name": "stdout",
     "output_type": "stream",
     "text": [
      "      Real  Predicted    Diferencia\n",
      "2973  26.0     25.799  2.010000e-01\n",
      "3396  23.0     23.085 -8.500000e-02\n",
      "4372  25.1     25.124 -2.400000e-02\n",
      "6025  13.6     13.532  6.800000e-02\n",
      "7960   7.5      7.626 -1.260000e-01\n",
      "...    ...        ...           ...\n",
      "724   17.8     17.800 -1.065814e-14\n",
      "4407  26.6     26.610 -1.000000e-02\n",
      "3772  27.1     27.193 -9.300000e-02\n",
      "9069  23.1     22.985  1.150000e-01\n",
      "5360  19.4     19.412 -1.200000e-02\n",
      "\n",
      "[1872 rows x 3 columns]\n"
     ]
    }
   ],
   "source": [
    "# Ajustar el modelo Random Forest múltiple en el conjunto de entrenamiento\n",
    "rf_model.fit(X_train, y_train)\n",
    "\n",
    "# Predecir en el conjunto de prueba\n",
    "y_pred_rf = rf_model.predict(X_test)\n",
    "\n",
    "# Crear un DataFrame con los valores reales y las predicciones\n",
    "rf_model_predicciones = pd.DataFrame({'Real': y_test, 'Predicted': y_pred_rf})\n",
    "rf_model_predicciones\n",
    "\n",
    "# Calcular la diferencia entre los valores reales y predichos\n",
    "rf_model_predicciones['Diferencia'] = rf_model_predicciones['Real'] - rf_model_predicciones['Predicted']\n",
    "\n",
    "# Imprimir el DataFrame con las diferencias\n",
    "print(rf_model_predicciones)"
   ]
  },
  {
   "cell_type": "code",
   "execution_count": 31,
   "id": "bcce02ec",
   "metadata": {},
   "outputs": [
    {
     "data": {
      "image/png": "[encoded data removed]",
      "text/plain": [
       "<Figure size 1000x500 with 1 Axes>"
      ]
     },
     "metadata": {},
     "output_type": "display_data"
    }
   ],
   "source": [
    "#Graficamos los resultados\n",
    "plt.figure(figsize=(10, 5))\n",
    "plt.scatter(rf_model_predicciones['Real'], rf_model_predicciones['Predicted'], alpha=0.5)\n",
    "plt.title('Valores Reales vs Predicciones')\n",
    "plt.xlabel('Valor Real')\n",
    "plt.ylabel('Predicción')\n",
    "plt.show()"
   ]
  },
  {
   "cell_type": "markdown",
   "id": "e0d93393",
   "metadata": {},
   "source": [
    "## 4. Validación del modelo\n",
    "\n",
    "\n"
   ]
  },
  {
   "cell_type": "markdown",
   "id": "a4cff5c4",
   "metadata": {},
   "source": [
    "## Identificación Overfiiting vs Underfitting"
   ]
  },
  {
   "cell_type": "markdown",
   "id": "559f72a3",
   "metadata": {},
   "source": [
    "<span style=\"font-family: Arial, sans-serif; font-size: 16px;\">\n",
    "\n",
    "Compara las métricas de rendimiento (MSE, RMSE, R², etc.) en los conjuntos de entrenamiento y prueba. Un modelo sobreajustado tendrá un error bajo en el conjunto de entrenamiento pero un error más alto en el conjunto de prueba.\n",
    "    \n",
    "</span>"
   ]
  },
  {
   "cell_type": "code",
   "execution_count": 36,
   "id": "557ace0e",
   "metadata": {},
   "outputs": [
    {
     "name": "stdout",
     "output_type": "stream",
     "text": [
      "Training MSE: 0.010808244770193985\n",
      "Test MSE: 0.04759536645299169\n",
      "Posible Overfitting: El modelo tiene un menor error en el conjunto de entrenamiento en comparación con el conjunto de prueba.\n"
     ]
    }
   ],
   "source": [
    "# Calcular el MSE en el conjunto de entrenamiento y prueba\n",
    "train_mse = mean_squared_error(y_train, y_train_pred)\n",
    "test_mse = mean_squared_error(y_test, y_test_pred)\n",
    "\n",
    "# Imprimir los resultados\n",
    "print(\"Training MSE:\", train_mse)\n",
    "print(\"Test MSE:\", test_mse)\n",
    "\n",
    "# Identificar Overfitting o Underfitting\n",
    "if train_mse < test_mse:\n",
    "    print(\"Posible Overfitting: El modelo tiene un menor error en el conjunto de entrenamiento en comparación con el conjunto de prueba.\")\n",
    "elif train_mse > test_mse:\n",
    "    print(\"Posible Underfitting: El modelo tiene un mayor error en el conjunto de entrenamiento en comparación con el conjunto de prueba.\")\n",
    "else:\n",
    "    print(\"El modelo parece estar bien ajustado con errores similares en ambos conjuntos.\")"
   ]
  },
  {
   "cell_type": "markdown",
   "id": "514dc053",
   "metadata": {},
   "source": [
    "### INSIGHTS DE APLICACIÓN DE MODELOS DE MACHINE LEARNING"
   ]
  },
  {
   "cell_type": "markdown",
   "id": "1f17f112",
   "metadata": {},
   "source": [
    "<span style=\"font-family: Arial, sans-serif; font-size: 16px;\">\n",
    "    \n",
    "Después de aplicar los siete modelos de Machine Learning de regresión (regresión lineal múltiple, Ridge, Lasso, Random Forest, Gradient Boosting, XGB y LightGBM) al conjunto de datos de calidad del aire, se destaca que el **modelo Random Forest** ha demostrado un rendimiento sobresaliente en comparación con los demás, aunque varios de ellos también exhibieron ajustes notables.\n",
    "\n",
    "Este resultado se sustenta en métricas como un elevado **coeficiente de determinación (R²: 0.99)**, así como valores reducidos en **MSE (0.01) y MAE (0.04)**. Al contrastar los resultados entre el conjunto de entrenamiento y el de prueba, se observa que la diferencia entre los valores reales y predichos es menor a 0, indicando una ligera subestimación por parte del modelo. No obstante, dada la naturaleza dinámica de la variable de respuesta (temperatura), considero que esta pequeña discrepancia es aceptable.\n",
    "\n",
    "En base a estos resultados, no se considera necesario aplicar técnicas de validación como **LOOCV y K-fold**, ya que el modelo ha demostrado precisión en sus predicciones para este conjunto de datos específico. Sin embargo, al aplicar las técnicas de Overfitting y Underfitting se pudo identificar que el modelo aplicado tiene un menor error en el conjunto de entrenamniento en comparación con el conjunto de prueba, lo que sugiere un posible sobre ajuste. \n",
    "\n",
    "Con relación al planteamiento, si la concentración de CO, C6H6, NOx y NO2 influye en el aumento de la temperatura, los resultados de las métricas de rendimiento respaldan la afirmación de que la concentración de estos contaminantes tiene un impacto significativo en el aumento de la temperatura. Sin embargo, se recomienda evaluar otros modelos de machine learning que al momento de validarlos no presenten posibles sobre ajuste. \n",
    "\n",
    "</span>"
   ]
  },
  {
   "cell_type": "code",
   "execution_count": null,
   "id": "d8679983",
   "metadata": {},
   "outputs": [],
   "source": []
  }
 ],
 "metadata": {
  "kernelspec": {
   "display_name": "Python 3 (ipykernel)",
   "language": "python",
   "name": "python3"
  },
  "language_info": {
   "codemirror_mode": {
    "name": "ipython",
    "version": 3
   },
   "file_extension": ".py",
   "mimetype": "text/x-python",
   "name": "python",
   "nbconvert_exporter": "python",
   "pygments_lexer": "ipython3",
   "version": "3.11.4"
  }
 },
 "nbformat": 4,
 "nbformat_minor": 5
}
